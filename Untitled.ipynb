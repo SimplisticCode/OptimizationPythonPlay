{
 "cells": [
  {
   "cell_type": "code",
   "execution_count": 1,
   "metadata": {},
   "outputs": [],
   "source": [
    "import numpy as np\n",
    "import matplotlib.pyplot as plt"
   ]
  },
  {
   "cell_type": "code",
   "execution_count": 24,
   "metadata": {},
   "outputs": [],
   "source": [
    "M = np.array([[-1, -0.9], [-1, 0]])\n",
    "X = np.array([[-1, 0, -0.5, -1.5, -2, 0, -1, 1, 1.3, 0.7, 2.5, 0], [0, -1, -0.5, -1.5, 0, -2, -1.3, 1, 0.7, 1.3, 1, 1]])"
   ]
  },
  {
   "cell_type": "code",
   "execution_count": null,
   "metadata": {},
   "outputs": [],
   "source": [
    "def KMean(data, clusters, iterations):\n",
    "    for i in range(iterations):\n",
    "        labels = []\n",
    "        for j in range(data.shape[1]):\n",
    "            l1 = np.linalg.norm(data[:,j] - clusters[:, 0])\n",
    "            l2 = np.linalg.norm(data[:,j] - clusters[:, 1])\n",
    "            if l1 < l2:\n",
    "                labels.append('l1')\n",
    "            else:\n",
    "                labels.append('l2')\n",
    "               \n",
    "        center1 = 0\n",
    "        center2 = 0\n",
    "        c = []\n",
    "        #recalculate Centroid\n",
    "        for j in range(data.shape[1]):\n",
    "            if labels[j] == 'l1':\n",
    "                c.append('r') \n",
    "                center1 = center1 + data[:, j]/labels.count('l1')\n",
    "            else:\n",
    "                center2 = center2 + data[:, j]/labels.count('l2')\n",
    "                c.append('b')\n",
    "                \n",
    "        clusters[:,0] = center1\n",
    "        clusters[:,1] = center2\n",
    "\n",
    "        plt.scatter(data[0], data[1], c = c)\n",
    "        plt.savefig('KMean - iteration' + str(i))\n",
    "\n",
    "    return labels"
   ]
  },
  {
   "cell_type": "code",
   "execution_count": 26,
   "metadata": {
    "collapsed": false
   },
   "outputs": [],
   "source": [
    "labels = KMean(X, M, 3)\n",
    "\n",
    "\n"
   ]
  },
  {
   "cell_type": "code",
   "execution_count": 17,
   "metadata": {},
   "outputs": [],
   "source": [
    "def KFussyMean(data, clusters, iterations, gamma):\n",
    "    for i in range(iterations):\n",
    "        #calculate membership\n",
    "        a1 = []\n",
    "        a2 = []\n",
    "        for j in range(data.shape[1]):\n",
    "            x1_hat = np.power(np.linalg.norm(data[:,j] - clusters[:, 0]), -gamma)\n",
    "            x2_hat = np.power(np.linalg.norm(data[:,j] - clusters[:, 1]), -gamma)\n",
    "            x_sum = x1_hat + x2_hat\n",
    "            a1.append(x1_hat / x_sum)\n",
    "            a2.append(x2_hat / x_sum)\n",
    "               \n",
    "        center1 = np.array([0, 0])\n",
    "        center2 = np.array([0, 0])\n",
    "        #recalculate Centroid\n",
    "        for j in range(data.shape[1]):\n",
    "            center1 = center1 + data[:, j] * a1[j] \n",
    "            center2 = center2 + data[:, j] * a2[j] \n",
    "                \n",
    "        clusters[:,0] = center1\n",
    "        clusters[:,1] = center2"
   ]
  },
  {
   "cell_type": "code",
   "execution_count": 18,
   "metadata": {},
   "outputs": [],
   "source": [
    "KFussyMean(X, M, 3, 2)\n",
    "\n"
   ]
  },
  {
   "cell_type": "code",
   "execution_count": 74,
   "metadata": {},
   "outputs": [],
   "source": [
    "X1 = np.array([[1, 2, 2, 3, 3, 4], [1, 2, 3, 2, 3, 4]])\n",
    "m = np.array([np.mean(X1[0]), np.mean(X1[1])])"
   ]
  },
  {
   "cell_type": "code",
   "execution_count": 81,
   "metadata": {},
   "outputs": [],
   "source": [
    "X1_hat = np.array([e for e in X1[0,:] - m[0]])"
   ]
  },
  {
   "cell_type": "code",
   "execution_count": 82,
   "metadata": {},
   "outputs": [],
   "source": [
    " X2_hat = np.array([f for f in X1[1,:] - m[1]])"
   ]
  },
  {
   "cell_type": "code",
   "execution_count": 83,
   "metadata": {},
   "outputs": [],
   "source": [
    "X_Hat = np.array([X1_hat, X2_hat])"
   ]
  },
  {
   "cell_type": "code",
   "execution_count": 84,
   "metadata": {},
   "outputs": [
    {
     "data": {
      "text/plain": [
       "array([[-1.5, -0.5, -0.5,  0.5,  0.5,  1.5],\n       [-1.5, -0.5,  0.5, -0.5,  0.5,  1.5]])"
      ]
     },
     "execution_count": 84,
     "metadata": {},
     "output_type": "execute_result"
    }
   ],
   "source": [
    "X_Hat"
   ]
  },
  {
   "cell_type": "code",
   "execution_count": 87,
   "metadata": {},
   "outputs": [],
   "source": [
    "ST = np.matmul(X_Hat, np.transpose(X_Hat))"
   ]
  },
  {
   "cell_type": "code",
   "execution_count": 91,
   "metadata": {},
   "outputs": [],
   "source": [
    "eigenvalue = np.linalg.eig(ST)[0]"
   ]
  },
  {
   "cell_type": "code",
   "execution_count": 105,
   "metadata": {},
   "outputs": [],
   "source": [
    "np.linalg.eig(ST)[1][1]\n",
    "v = np.array([0.70710678, 0.70710678])"
   ]
  },
  {
   "cell_type": "code",
   "execution_count": 112,
   "metadata": {
    "collapsed": true
   },
   "outputs": [],
   "source": [
    "x = np.matmul(np.transpose(v), X1)"
   ]
  },
  {
   "cell_type": "code",
   "execution_count": 113,
   "metadata": {},
   "outputs": [
    {
     "data": {
      "text/plain": [
       "array([1.41421356, 2.82842712, 3.5355339 , 3.5355339 , 4.24264068,\n       5.65685424])"
      ]
     },
     "execution_count": 113,
     "metadata": {},
     "output_type": "execute_result"
    }
   ],
   "source": [
    "x"
   ]
  },
  {
   "cell_type": "code",
   "execution_count": 122,
   "metadata": {},
   "outputs": [
    {
     "data": {
      "text/plain": [
       "['r', 'r', 'r', 'r', 'r', 'r', 'r', 'b', 'b', 'b', 'b', 'b']"
      ]
     },
     "execution_count": 122,
     "metadata": {},
     "output_type": "execute_result"
    }
   ],
   "source": [
    "c"
   ]
  },
  {
   "cell_type": "code",
   "execution_count": 9,
   "metadata": {},
   "outputs": [
    {
     "data": {
      "text/plain": [
       "['l1', 'l1', 'l1', 'l1', 'l1', 'l1', 'l1', 'l2', 'l2', 'l2', 'l2', 'l2']"
      ]
     },
     "execution_count": 9,
     "metadata": {},
     "output_type": "execute_result"
    }
   ],
   "source": [
    "labels"
   ]
  },
  {
   "cell_type": "code",
   "execution_count": null,
   "metadata": {},
   "outputs": [],
   "source": []
  }
 ],
 "metadata": {
  "kernelspec": {
   "display_name": "Python 3",
   "language": "python",
   "name": "python3"
  },
  "language_info": {
   "codemirror_mode": {
    "name": "ipython",
    "version": 3
   },
   "file_extension": ".py",
   "mimetype": "text/x-python",
   "name": "python",
   "nbconvert_exporter": "python",
   "pygments_lexer": "ipython3",
   "version": "3.6.6"
  }
 },
 "nbformat": 4,
 "nbformat_minor": 2
}
